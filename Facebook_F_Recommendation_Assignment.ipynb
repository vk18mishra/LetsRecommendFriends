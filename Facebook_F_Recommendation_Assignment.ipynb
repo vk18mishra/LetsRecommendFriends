{
 "cells": [
  {
   "cell_type": "code",
   "execution_count": null,
   "metadata": {
    "colab": {},
    "colab_type": "code",
    "id": "l6jMpZP7X-Ua"
   },
   "outputs": [],
   "source": [
    "#Importing Libraries\n",
    "# please do go through this python notebook: \n",
    "import warnings\n",
    "warnings.filterwarnings(\"ignore\")\n",
    " \n",
    "import csv\n",
    "import pandas as pd#pandas to create small dataframes \n",
    "import datetime #Convert to unix time\n",
    "import time #Convert to unix time\n",
    "# if numpy is not installed already : pip3 install numpy\n",
    "import numpy as np#Do aritmetic operations on arrays\n",
    "# matplotlib: used to plot graphs\n",
    "import matplotlib\n",
    "import matplotlib.pylab as plt\n",
    "import seaborn as sns#Plots\n",
    "from matplotlib import rcParams#Size of plots  \n",
    "from sklearn.cluster import MiniBatchKMeans, KMeans#Clustering\n",
    "import math\n",
    "import pickle\n",
    "import os\n",
    "# to install xgboost: pip3 install xgboost\n",
    "import xgboost as xgb\n",
    "from sklearn.model_selection import RandomizedSearchCV, GridSearchCV\n",
    " \n",
    "import warnings\n",
    "import networkx as nx\n",
    "import pdb\n",
    "import pickle\n",
    "from pandas import HDFStore,DataFrame\n",
    "from pandas import read_hdf\n",
    "from scipy.sparse.linalg import svds, eigs\n",
    "import gc\n",
    "from tqdm import tqdm\n",
    "from sklearn.ensemble import RandomForestClassifier\n",
    "from sklearn.metrics import f1_score"
   ]
  },
  {
   "cell_type": "code",
   "execution_count": null,
   "metadata": {
    "colab": {
     "base_uri": "https://localhost:8080/",
     "height": 224
    },
    "colab_type": "code",
    "id": "8TSoEHpFPQxz",
    "outputId": "2935a716-e051-4530-a808-1b7fcbc741c9"
   },
   "outputs": [
    {
     "name": "stdout",
     "output_type": "stream",
     "text": [
      "--2020-09-02 06:55:47--  https://doc-0s-80-drive-data-export.googleusercontent.com/download/sghr8pnsjffiha0mq8imgl11o723ufn6/dk0plg57034lp2684omnrvf1ubebje3k/1599025500000/51fbc4b6-29b4-4fdb-b0b9-717a0a8c3a63/100968300222125116581/ADt3v-NWmVn6oYzxH1_stsqDLgfb8XWEyQ8q9lRpqBnNhva--067JxM8CHaiBvcHZx71smjTSa4ItbtEmCkmFL3btGAcTiYDR8r2TSEHI2YVKN4XEWVeciepyGzQWRN_YYkwtMQiE2rm2dQqez1GYTsYk4OShWVjtyVeNWKHmmNRBlbgbZv_9a33ayKvsevQeehaFuP3swBS7vtKjUohOFq1Y7_C0kY1_C9TAebJpHUjFpsYLAjqwYY6UEzGxPn51HI3oS04vFvMRwQQ1SHG5GfI_0tGDYRk8EbMh8HZYUyQ19irmTZ-BvjRVzfQBwcawQnKfvdfWQrd?authuser=0&nonce=b34jo1tr99bjq&user=100968300222125116581&hash=4mvd5ln84an7rk81gn71nl3fp7biloin\n",
      "Resolving doc-0s-80-drive-data-export.googleusercontent.com (doc-0s-80-drive-data-export.googleusercontent.com)... 172.217.203.132, 2607:f8b0:400c:c07::84\n",
      "Connecting to doc-0s-80-drive-data-export.googleusercontent.com (doc-0s-80-drive-data-export.googleusercontent.com)|172.217.203.132|:443... connected.\n",
      "HTTP request sent, awaiting response... 200 OK\n",
      "Length: 416199167 (397M) [application/octet-stream]\n",
      "Saving to: ‘drive-download-20200902T064408Z-001.zip’\n",
      "\n",
      "drive-download-2020 100%[===================>] 396.92M   125MB/s    in 3.2s    \n",
      "\n",
      "2020-09-02 06:55:52 (125 MB/s) - ‘drive-download-20200902T064408Z-001.zip’ saved [416199167/416199167]\n",
      "\n"
     ]
    }
   ],
   "source": [
    "#Getting after_eda data\n",
    "!wget --header=\"Host: doc-0s-80-drive-data-export.googleusercontent.com\" --header=\"User-Agent: Mozilla/5.0 (Windows NT 10.0; Win64; x64) AppleWebKit/537.36 (KHTML, like Gecko) Chrome/84.0.4147.135 Safari/537.36\" --header=\"Accept: text/html,application/xhtml+xml,application/xml;q=0.9,image/webp,image/apng,*/*;q=0.8,application/signed-exchange;v=b3;q=0.9\" --header=\"Accept-Language: en-US,en;q=0.9,es;q=0.8\" --header=\"Referer: https://drive.google.com/drive/folders/1ONG0P5YAMlkzyKB7VugPKtLs9fXcdmRx\" --header=\"Cookie: AUTH_hq65sh78cadllksq13cj3qcu16uhodbe_nonce=b34jo1tr99bjq\" --header=\"Connection: keep-alive\" \"https://doc-0s-80-drive-data-export.googleusercontent.com/download/sghr8pnsjffiha0mq8imgl11o723ufn6/dk0plg57034lp2684omnrvf1ubebje3k/1599025500000/51fbc4b6-29b4-4fdb-b0b9-717a0a8c3a63/100968300222125116581/ADt3v-NWmVn6oYzxH1_stsqDLgfb8XWEyQ8q9lRpqBnNhva--067JxM8CHaiBvcHZx71smjTSa4ItbtEmCkmFL3btGAcTiYDR8r2TSEHI2YVKN4XEWVeciepyGzQWRN_YYkwtMQiE2rm2dQqez1GYTsYk4OShWVjtyVeNWKHmmNRBlbgbZv_9a33ayKvsevQeehaFuP3swBS7vtKjUohOFq1Y7_C0kY1_C9TAebJpHUjFpsYLAjqwYY6UEzGxPn51HI3oS04vFvMRwQQ1SHG5GfI_0tGDYRk8EbMh8HZYUyQ19irmTZ-BvjRVzfQBwcawQnKfvdfWQrd?authuser=0&nonce=b34jo1tr99bjq&user=100968300222125116581&hash=4mvd5ln84an7rk81gn71nl3fp7biloin\" -c -O 'drive-download-20200902T064408Z-001.zip'"
   ]
  },
  {
   "cell_type": "code",
   "execution_count": null,
   "metadata": {
    "colab": {
     "base_uri": "https://localhost:8080/",
     "height": 170
    },
    "colab_type": "code",
    "id": "TZigkNDTTT6H",
    "outputId": "0ae26976-444c-42f8-fe6c-d3e4bdf3bdbe"
   },
   "outputs": [
    {
     "name": "stdout",
     "output_type": "stream",
     "text": [
      "Archive:  drive-download-20200902T064408Z-001.zip\n",
      "  inflating: test_neg_after_eda.csv  \n",
      "  inflating: test_pos_after_eda.csv  \n",
      "  inflating: train_pos_after_eda.csv  \n",
      "  inflating: train_woheader.csv      \n",
      "  inflating: train_neg_after_eda.csv  \n",
      "  inflating: missing_edges_final.p   \n",
      "  inflating: train_after_eda.csv     \n",
      "  inflating: test_after_eda.csv      \n"
     ]
    }
   ],
   "source": [
    "!unzip 'drive-download-20200902T064408Z-001.zip'"
   ]
  },
  {
   "cell_type": "code",
   "execution_count": null,
   "metadata": {
    "colab": {
     "base_uri": "https://localhost:8080/",
     "height": 224
    },
    "colab_type": "code",
    "id": "5-U6PhMoUD-O",
    "outputId": "156d6a02-0c81-4a02-92a9-2ffa2a581c6f"
   },
   "outputs": [
    {
     "name": "stdout",
     "output_type": "stream",
     "text": [
      "--2020-09-02 06:42:49--  https://doc-3s-20-drive-data-export.googleusercontent.com/download/sghr8pnsjffiha0mq8imgl11o723ufn6/hrl7r51t9k3qdbe5h7gs8h09gp6lep10/1599025500000/919e3811-e419-4176-824e-e545b09a3b53/100968300222125116581/ADt3v-Pw9RoFjhn6TfXjSqSOQDZ0-j1Wz0g4RbiO-PNfsajPiPhuQ7g8apoM9UEVsVfuyW507azeiJ_QflAP6OlBIqY-pHLL5vI2ato01eoBysWGUpFMbR0xtityAiPJ-rYDEmNDdDW0QlA4UPKw3D_Z9WVDuYFmsuDObOYy7r-BjZu9QdWTNtrOLNFoXL04yC8cufxzkeg98RB0W8pNvweOhtKFNkW-T14veyrN0v9fPnkXA0KhG2v6EOHI99qrPS054IlJcvOZZ4Z3gGUk1nmjtuNVp14p9bmlOrBDV5X6OPzCG6bHFnOFE_3WqTQeRfH3eKNwaJ2h?authuser=0&nonce=p0gl2as7auk2e&user=100968300222125116581&hash=n4spur6l1sn86ghmi6tc96a8mc811h60\n",
      "Resolving doc-3s-20-drive-data-export.googleusercontent.com (doc-3s-20-drive-data-export.googleusercontent.com)... 172.217.203.132, 2607:f8b0:400c:c07::84\n",
      "Connecting to doc-3s-20-drive-data-export.googleusercontent.com (doc-3s-20-drive-data-export.googleusercontent.com)|172.217.203.132|:443... connected.\n",
      "HTTP request sent, awaiting response... 200 OK\n",
      "Length: 178254609 (170M) [application/octet-stream]\n",
      "Saving to: ‘drive-download-20200902T063450Z-001.zip’\n",
      "\n",
      "drive-download-2020 100%[===================>] 170.00M  90.6MB/s    in 1.9s    \n",
      "\n",
      "2020-09-02 06:42:51 (90.6 MB/s) - ‘drive-download-20200902T063450Z-001.zip’ saved [178254609/178254609]\n",
      "\n"
     ]
    }
   ],
   "source": [
    "#Getting fea_sample data\n",
    "!wget --header=\"Host: doc-3s-20-drive-data-export.googleusercontent.com\" --header=\"User-Agent: Mozilla/5.0 (Windows NT 10.0; Win64; x64) AppleWebKit/537.36 (KHTML, like Gecko) Chrome/84.0.4147.135 Safari/537.36\" --header=\"Accept: text/html,application/xhtml+xml,application/xml;q=0.9,image/webp,image/apng,*/*;q=0.8,application/signed-exchange;v=b3;q=0.9\" --header=\"Accept-Language: en-US,en;q=0.9,es;q=0.8\" --header=\"Referer: https://drive.google.com/drive/folders/1qYtDPghLMT6rv3xd7NmQUSUKWwCS5375\" --header=\"Cookie: AUTH_hq65sh78cadllksq13cj3qcu16uhodbe_nonce=p0gl2as7auk2e\" --header=\"Connection: keep-alive\" \"https://doc-3s-20-drive-data-export.googleusercontent.com/download/sghr8pnsjffiha0mq8imgl11o723ufn6/hrl7r51t9k3qdbe5h7gs8h09gp6lep10/1599025500000/919e3811-e419-4176-824e-e545b09a3b53/100968300222125116581/ADt3v-Pw9RoFjhn6TfXjSqSOQDZ0-j1Wz0g4RbiO-PNfsajPiPhuQ7g8apoM9UEVsVfuyW507azeiJ_QflAP6OlBIqY-pHLL5vI2ato01eoBysWGUpFMbR0xtityAiPJ-rYDEmNDdDW0QlA4UPKw3D_Z9WVDuYFmsuDObOYy7r-BjZu9QdWTNtrOLNFoXL04yC8cufxzkeg98RB0W8pNvweOhtKFNkW-T14veyrN0v9fPnkXA0KhG2v6EOHI99qrPS054IlJcvOZZ4Z3gGUk1nmjtuNVp14p9bmlOrBDV5X6OPzCG6bHFnOFE_3WqTQeRfH3eKNwaJ2h?authuser=0&nonce=p0gl2as7auk2e&user=100968300222125116581&hash=n4spur6l1sn86ghmi6tc96a8mc811h60\" -c -O 'drive-download-20200902T063450Z-001.zip'"
   ]
  },
  {
   "cell_type": "code",
   "execution_count": null,
   "metadata": {
    "colab": {
     "base_uri": "https://localhost:8080/",
     "height": 153
    },
    "colab_type": "code",
    "id": "JIS3s2OGUHQd",
    "outputId": "33c4a339-cd5e-4dac-8ee2-8d8312248e0e"
   },
   "outputs": [
    {
     "name": "stdout",
     "output_type": "stream",
     "text": [
      "Archive:  drive-download-20200902T063450Z-001.zip\n",
      "  inflating: storage_sample_stage2.h5  \n",
      "  inflating: storage_sample_stage1.h5  \n",
      "  inflating: storage_sample_stage3.h5  \n",
      "  inflating: hits.p                  \n",
      "  inflating: storage_sample_stage4.h5  \n",
      "  inflating: katz.p                  \n",
      "  inflating: page_rank.p             \n"
     ]
    }
   ],
   "source": [
    "!unzip 'drive-download-20200902T063450Z-001.zip'"
   ]
  },
  {
   "cell_type": "code",
   "execution_count": null,
   "metadata": {
    "colab": {
     "base_uri": "https://localhost:8080/",
     "height": 204
    },
    "colab_type": "code",
    "id": "gHHyh3ZDUTry",
    "outputId": "94a52c2b-2316-4618-cf4b-7306d7ce7e23"
   },
   "outputs": [
    {
     "data": {
      "text/html": [
       "<div>\n",
       "<style scoped>\n",
       "    .dataframe tbody tr th:only-of-type {\n",
       "        vertical-align: middle;\n",
       "    }\n",
       "\n",
       "    .dataframe tbody tr th {\n",
       "        vertical-align: top;\n",
       "    }\n",
       "\n",
       "    .dataframe thead th {\n",
       "        text-align: right;\n",
       "    }\n",
       "</style>\n",
       "<table border=\"1\" class=\"dataframe\">\n",
       "  <thead>\n",
       "    <tr style=\"text-align: right;\">\n",
       "      <th></th>\n",
       "      <th>0</th>\n",
       "      <th>1</th>\n",
       "    </tr>\n",
       "  </thead>\n",
       "  <tbody>\n",
       "    <tr>\n",
       "      <th>0</th>\n",
       "      <td>273084</td>\n",
       "      <td>1505602</td>\n",
       "    </tr>\n",
       "    <tr>\n",
       "      <th>1</th>\n",
       "      <td>912810</td>\n",
       "      <td>1678443</td>\n",
       "    </tr>\n",
       "    <tr>\n",
       "      <th>2</th>\n",
       "      <td>365429</td>\n",
       "      <td>1523458</td>\n",
       "    </tr>\n",
       "    <tr>\n",
       "      <th>3</th>\n",
       "      <td>527014</td>\n",
       "      <td>1605979</td>\n",
       "    </tr>\n",
       "    <tr>\n",
       "      <th>4</th>\n",
       "      <td>1228116</td>\n",
       "      <td>471233</td>\n",
       "    </tr>\n",
       "  </tbody>\n",
       "</table>\n",
       "</div>"
      ],
      "text/plain": [
       "         0        1\n",
       "0   273084  1505602\n",
       "1   912810  1678443\n",
       "2   365429  1523458\n",
       "3   527014  1605979\n",
       "4  1228116   471233"
      ]
     },
     "execution_count": 10,
     "metadata": {
      "tags": []
     },
     "output_type": "execute_result"
    }
   ],
   "source": [
    "import pandas as pd\n",
    "train_pos = pd.read_csv('train_pos_after_eda.csv', header=None)\n",
    "train_pos.head()"
   ]
  },
  {
   "cell_type": "code",
   "execution_count": null,
   "metadata": {
    "colab": {
     "base_uri": "https://localhost:8080/",
     "height": 34
    },
    "colab_type": "code",
    "id": "WoEj884YbWA7",
    "outputId": "364dbc45-a30d-4813-f6f1-b07ab6455055"
   },
   "outputs": [
    {
     "data": {
      "text/plain": [
       "7550015"
      ]
     },
     "execution_count": 11,
     "metadata": {
      "tags": []
     },
     "output_type": "execute_result"
    }
   ],
   "source": [
    "len(train_pos)"
   ]
  },
  {
   "cell_type": "code",
   "execution_count": null,
   "metadata": {
    "colab": {},
    "colab_type": "code",
    "id": "xndAeAC7Y0QW"
   },
   "outputs": [],
   "source": [
    "df_final_train = read_hdf('storage_sample_stage4.h5', 'train_df',mode='r')\n",
    "df_final_test = read_hdf('storage_sample_stage4.h5', 'test_df',mode='r')"
   ]
  },
  {
   "cell_type": "code",
   "execution_count": null,
   "metadata": {
    "colab": {
     "base_uri": "https://localhost:8080/",
     "height": 51
    },
    "colab_type": "code",
    "id": "KWKCVnz785ts",
    "outputId": "e76683cb-12c4-4bdb-aa12-d0b384196d92"
   },
   "outputs": [
    {
     "name": "stdout",
     "output_type": "stream",
     "text": [
      "100002\n"
     ]
    },
    {
     "data": {
      "text/plain": [
       "50002"
      ]
     },
     "execution_count": 15,
     "metadata": {
      "tags": []
     },
     "output_type": "execute_result"
    }
   ],
   "source": [
    "print(len(df_final_train))\n",
    "len(df_final_test)"
   ]
  },
  {
   "cell_type": "code",
   "execution_count": null,
   "metadata": {
    "colab": {
     "base_uri": "https://localhost:8080/",
     "height": 309
    },
    "colab_type": "code",
    "id": "XvvbAaFWY4yY",
    "outputId": "986aad5e-b628-4582-cd8b-4d499470dcc2"
   },
   "outputs": [
    {
     "data": {
      "text/html": [
       "<div>\n",
       "<style scoped>\n",
       "    .dataframe tbody tr th:only-of-type {\n",
       "        vertical-align: middle;\n",
       "    }\n",
       "\n",
       "    .dataframe tbody tr th {\n",
       "        vertical-align: top;\n",
       "    }\n",
       "\n",
       "    .dataframe thead th {\n",
       "        text-align: right;\n",
       "    }\n",
       "</style>\n",
       "<table border=\"1\" class=\"dataframe\">\n",
       "  <thead>\n",
       "    <tr style=\"text-align: right;\">\n",
       "      <th></th>\n",
       "      <th>source_node</th>\n",
       "      <th>destination_node</th>\n",
       "      <th>indicator_link</th>\n",
       "      <th>jaccard_followers</th>\n",
       "      <th>jaccard_followees</th>\n",
       "      <th>cosine_followers</th>\n",
       "      <th>cosine_followees</th>\n",
       "      <th>num_followers_s</th>\n",
       "      <th>num_followees_s</th>\n",
       "      <th>num_followees_d</th>\n",
       "      <th>inter_followers</th>\n",
       "      <th>inter_followees</th>\n",
       "      <th>adar_index</th>\n",
       "      <th>follows_back</th>\n",
       "      <th>same_comp</th>\n",
       "      <th>shortest_path</th>\n",
       "      <th>weight_in</th>\n",
       "      <th>weight_out</th>\n",
       "      <th>weight_f1</th>\n",
       "      <th>weight_f2</th>\n",
       "      <th>weight_f3</th>\n",
       "      <th>weight_f4</th>\n",
       "      <th>page_rank_s</th>\n",
       "      <th>page_rank_d</th>\n",
       "      <th>katz_s</th>\n",
       "      <th>katz_d</th>\n",
       "      <th>hubs_s</th>\n",
       "      <th>hubs_d</th>\n",
       "      <th>authorities_s</th>\n",
       "      <th>authorities_d</th>\n",
       "      <th>svd_u_s_1</th>\n",
       "      <th>svd_u_s_2</th>\n",
       "      <th>svd_u_s_3</th>\n",
       "      <th>svd_u_s_4</th>\n",
       "      <th>svd_u_s_5</th>\n",
       "      <th>svd_u_s_6</th>\n",
       "      <th>svd_u_d_1</th>\n",
       "      <th>svd_u_d_2</th>\n",
       "      <th>svd_u_d_3</th>\n",
       "      <th>svd_u_d_4</th>\n",
       "      <th>svd_u_d_5</th>\n",
       "      <th>svd_u_d_6</th>\n",
       "      <th>svd_v_s_1</th>\n",
       "      <th>svd_v_s_2</th>\n",
       "      <th>svd_v_s_3</th>\n",
       "      <th>svd_v_s_4</th>\n",
       "      <th>svd_v_s_5</th>\n",
       "      <th>svd_v_s_6</th>\n",
       "      <th>svd_v_d_1</th>\n",
       "      <th>svd_v_d_2</th>\n",
       "      <th>svd_v_d_3</th>\n",
       "      <th>svd_v_d_4</th>\n",
       "      <th>svd_v_d_5</th>\n",
       "      <th>svd_v_d_6</th>\n",
       "    </tr>\n",
       "  </thead>\n",
       "  <tbody>\n",
       "    <tr>\n",
       "      <th>0</th>\n",
       "      <td>273084</td>\n",
       "      <td>1505602</td>\n",
       "      <td>1</td>\n",
       "      <td>0</td>\n",
       "      <td>0.000000</td>\n",
       "      <td>0.000000</td>\n",
       "      <td>0.000000</td>\n",
       "      <td>6</td>\n",
       "      <td>15</td>\n",
       "      <td>8</td>\n",
       "      <td>0</td>\n",
       "      <td>0</td>\n",
       "      <td>0.000000</td>\n",
       "      <td>0</td>\n",
       "      <td>1</td>\n",
       "      <td>4</td>\n",
       "      <td>0.377964</td>\n",
       "      <td>0.250000</td>\n",
       "      <td>0.627964</td>\n",
       "      <td>0.094491</td>\n",
       "      <td>1.005929</td>\n",
       "      <td>0.877964</td>\n",
       "      <td>2.045290e-06</td>\n",
       "      <td>3.459963e-07</td>\n",
       "      <td>0.000773</td>\n",
       "      <td>0.000756</td>\n",
       "      <td>1.943132e-13</td>\n",
       "      <td>1.941103e-13</td>\n",
       "      <td>9.226339e-16</td>\n",
       "      <td>2.231877e-15</td>\n",
       "      <td>-1.666226e-13</td>\n",
       "      <td>4.613397e-13</td>\n",
       "      <td>1.043044e-05</td>\n",
       "      <td>6.676960e-13</td>\n",
       "      <td>2.451081e-13</td>\n",
       "      <td>3.584580e-12</td>\n",
       "      <td>-2.038017e-11</td>\n",
       "      <td>5.397495e-13</td>\n",
       "      <td>1.068946e-06</td>\n",
       "      <td>1.192357e-12</td>\n",
       "      <td>2.279485e-12</td>\n",
       "      <td>3.580837e-12</td>\n",
       "      <td>-7.216133e-13</td>\n",
       "      <td>3.925975e-13</td>\n",
       "      <td>1.983691e-06</td>\n",
       "      <td>1.545075e-13</td>\n",
       "      <td>8.108434e-13</td>\n",
       "      <td>1.719702e-14</td>\n",
       "      <td>-1.355368e-12</td>\n",
       "      <td>4.675307e-13</td>\n",
       "      <td>1.128591e-06</td>\n",
       "      <td>6.616550e-14</td>\n",
       "      <td>9.771077e-13</td>\n",
       "      <td>4.159752e-14</td>\n",
       "    </tr>\n",
       "    <tr>\n",
       "      <th>1</th>\n",
       "      <td>832016</td>\n",
       "      <td>1543415</td>\n",
       "      <td>1</td>\n",
       "      <td>0</td>\n",
       "      <td>0.187135</td>\n",
       "      <td>0.028382</td>\n",
       "      <td>0.343828</td>\n",
       "      <td>94</td>\n",
       "      <td>61</td>\n",
       "      <td>142</td>\n",
       "      <td>11</td>\n",
       "      <td>32</td>\n",
       "      <td>16.362912</td>\n",
       "      <td>0</td>\n",
       "      <td>1</td>\n",
       "      <td>2</td>\n",
       "      <td>0.102598</td>\n",
       "      <td>0.127000</td>\n",
       "      <td>0.229598</td>\n",
       "      <td>0.013030</td>\n",
       "      <td>0.332196</td>\n",
       "      <td>0.356598</td>\n",
       "      <td>2.353458e-07</td>\n",
       "      <td>6.427660e-07</td>\n",
       "      <td>0.000845</td>\n",
       "      <td>0.001317</td>\n",
       "      <td>3.906648e-11</td>\n",
       "      <td>9.424102e-11</td>\n",
       "      <td>1.208074e-11</td>\n",
       "      <td>1.273080e-10</td>\n",
       "      <td>7.051088e-13</td>\n",
       "      <td>-8.250564e-11</td>\n",
       "      <td>-1.717702e-10</td>\n",
       "      <td>3.705016e-02</td>\n",
       "      <td>1.032392e-11</td>\n",
       "      <td>7.207497e-10</td>\n",
       "      <td>1.644399e-12</td>\n",
       "      <td>-2.047752e-10</td>\n",
       "      <td>-3.943936e-10</td>\n",
       "      <td>8.617541e-02</td>\n",
       "      <td>2.399540e-11</td>\n",
       "      <td>1.738682e-09</td>\n",
       "      <td>2.685878e-13</td>\n",
       "      <td>-3.316849e-11</td>\n",
       "      <td>-6.236048e-11</td>\n",
       "      <td>1.345726e-02</td>\n",
       "      <td>3.703479e-12</td>\n",
       "      <td>2.251737e-10</td>\n",
       "      <td>1.245101e-12</td>\n",
       "      <td>-1.636948e-10</td>\n",
       "      <td>-3.112650e-10</td>\n",
       "      <td>6.738902e-02</td>\n",
       "      <td>2.607801e-11</td>\n",
       "      <td>2.372904e-09</td>\n",
       "    </tr>\n",
       "    <tr>\n",
       "      <th>2</th>\n",
       "      <td>1325247</td>\n",
       "      <td>760242</td>\n",
       "      <td>1</td>\n",
       "      <td>0</td>\n",
       "      <td>0.369565</td>\n",
       "      <td>0.156957</td>\n",
       "      <td>0.566038</td>\n",
       "      <td>28</td>\n",
       "      <td>41</td>\n",
       "      <td>22</td>\n",
       "      <td>26</td>\n",
       "      <td>17</td>\n",
       "      <td>10.991826</td>\n",
       "      <td>0</td>\n",
       "      <td>1</td>\n",
       "      <td>2</td>\n",
       "      <td>0.185695</td>\n",
       "      <td>0.154303</td>\n",
       "      <td>0.339999</td>\n",
       "      <td>0.028653</td>\n",
       "      <td>0.525694</td>\n",
       "      <td>0.494302</td>\n",
       "      <td>6.211019e-07</td>\n",
       "      <td>5.179801e-07</td>\n",
       "      <td>0.000885</td>\n",
       "      <td>0.000855</td>\n",
       "      <td>7.730764e-114</td>\n",
       "      <td>4.067322e-114</td>\n",
       "      <td>2.681298e-113</td>\n",
       "      <td>2.199205e-113</td>\n",
       "      <td>-4.900734e-18</td>\n",
       "      <td>1.096831e-18</td>\n",
       "      <td>-6.816555e-19</td>\n",
       "      <td>-2.226453e-18</td>\n",
       "      <td>6.710556e-19</td>\n",
       "      <td>-8.161336e-19</td>\n",
       "      <td>-2.606312e-18</td>\n",
       "      <td>6.392474e-19</td>\n",
       "      <td>-4.245830e-19</td>\n",
       "      <td>-1.315747e-18</td>\n",
       "      <td>3.849627e-19</td>\n",
       "      <td>-1.131971e-18</td>\n",
       "      <td>-1.510265e-18</td>\n",
       "      <td>1.454979e-19</td>\n",
       "      <td>-2.380564e-19</td>\n",
       "      <td>-7.021227e-19</td>\n",
       "      <td>1.940403e-19</td>\n",
       "      <td>-3.365389e-19</td>\n",
       "      <td>-1.238370e-18</td>\n",
       "      <td>1.438175e-19</td>\n",
       "      <td>-1.852863e-19</td>\n",
       "      <td>-5.901864e-19</td>\n",
       "      <td>1.629341e-19</td>\n",
       "      <td>-2.572452e-19</td>\n",
       "    </tr>\n",
       "    <tr>\n",
       "      <th>3</th>\n",
       "      <td>1368400</td>\n",
       "      <td>1006992</td>\n",
       "      <td>1</td>\n",
       "      <td>0</td>\n",
       "      <td>0.000000</td>\n",
       "      <td>0.000000</td>\n",
       "      <td>0.000000</td>\n",
       "      <td>11</td>\n",
       "      <td>5</td>\n",
       "      <td>7</td>\n",
       "      <td>0</td>\n",
       "      <td>0</td>\n",
       "      <td>0.000000</td>\n",
       "      <td>0</td>\n",
       "      <td>1</td>\n",
       "      <td>6</td>\n",
       "      <td>0.288675</td>\n",
       "      <td>0.408248</td>\n",
       "      <td>0.696923</td>\n",
       "      <td>0.117851</td>\n",
       "      <td>0.985599</td>\n",
       "      <td>1.105172</td>\n",
       "      <td>2.998153e-07</td>\n",
       "      <td>1.704245e-06</td>\n",
       "      <td>0.000739</td>\n",
       "      <td>0.000773</td>\n",
       "      <td>5.443738e-17</td>\n",
       "      <td>4.139999e-16</td>\n",
       "      <td>2.413250e-14</td>\n",
       "      <td>6.688064e-15</td>\n",
       "      <td>-9.965436e-12</td>\n",
       "      <td>4.077137e-13</td>\n",
       "      <td>5.083778e-10</td>\n",
       "      <td>1.985267e-14</td>\n",
       "      <td>2.471968e-12</td>\n",
       "      <td>1.004354e-15</td>\n",
       "      <td>-2.629029e-13</td>\n",
       "      <td>1.428940e-11</td>\n",
       "      <td>9.146784e-11</td>\n",
       "      <td>8.590132e-12</td>\n",
       "      <td>2.406658e-10</td>\n",
       "      <td>7.638106e-15</td>\n",
       "      <td>-2.170899e-13</td>\n",
       "      <td>5.206150e-13</td>\n",
       "      <td>6.058498e-11</td>\n",
       "      <td>1.514614e-11</td>\n",
       "      <td>1.513483e-12</td>\n",
       "      <td>4.498061e-13</td>\n",
       "      <td>-9.818087e-10</td>\n",
       "      <td>3.454672e-11</td>\n",
       "      <td>5.213635e-08</td>\n",
       "      <td>9.595823e-13</td>\n",
       "      <td>3.047045e-10</td>\n",
       "      <td>1.246592e-13</td>\n",
       "    </tr>\n",
       "    <tr>\n",
       "      <th>4</th>\n",
       "      <td>140165</td>\n",
       "      <td>1708748</td>\n",
       "      <td>1</td>\n",
       "      <td>0</td>\n",
       "      <td>0.000000</td>\n",
       "      <td>0.000000</td>\n",
       "      <td>0.000000</td>\n",
       "      <td>1</td>\n",
       "      <td>11</td>\n",
       "      <td>3</td>\n",
       "      <td>0</td>\n",
       "      <td>0</td>\n",
       "      <td>0.000000</td>\n",
       "      <td>0</td>\n",
       "      <td>0</td>\n",
       "      <td>-1</td>\n",
       "      <td>1.000000</td>\n",
       "      <td>0.301511</td>\n",
       "      <td>1.301511</td>\n",
       "      <td>0.301511</td>\n",
       "      <td>2.301511</td>\n",
       "      <td>1.603023</td>\n",
       "      <td>4.349180e-07</td>\n",
       "      <td>2.089590e-07</td>\n",
       "      <td>0.000751</td>\n",
       "      <td>0.000735</td>\n",
       "      <td>3.887821e-16</td>\n",
       "      <td>4.721269e-16</td>\n",
       "      <td>7.552255e-16</td>\n",
       "      <td>2.734009e-18</td>\n",
       "      <td>-3.408943e-13</td>\n",
       "      <td>1.125207e-13</td>\n",
       "      <td>3.190883e-07</td>\n",
       "      <td>8.550846e-14</td>\n",
       "      <td>1.405351e-13</td>\n",
       "      <td>7.172313e-15</td>\n",
       "      <td>-2.550169e-13</td>\n",
       "      <td>2.424636e-13</td>\n",
       "      <td>2.436301e-07</td>\n",
       "      <td>3.679960e-14</td>\n",
       "      <td>1.348520e-13</td>\n",
       "      <td>8.710393e-15</td>\n",
       "      <td>-4.795514e-13</td>\n",
       "      <td>1.521297e-13</td>\n",
       "      <td>1.197283e-07</td>\n",
       "      <td>1.999809e-14</td>\n",
       "      <td>3.360247e-13</td>\n",
       "      <td>1.407670e-14</td>\n",
       "      <td>0.000000e+00</td>\n",
       "      <td>0.000000e+00</td>\n",
       "      <td>0.000000e+00</td>\n",
       "      <td>0.000000e+00</td>\n",
       "      <td>0.000000e+00</td>\n",
       "      <td>0.000000e+00</td>\n",
       "    </tr>\n",
       "  </tbody>\n",
       "</table>\n",
       "</div>"
      ],
      "text/plain": [
       "   source_node  destination_node  ...     svd_v_d_5     svd_v_d_6\n",
       "0       273084           1505602  ...  9.771077e-13  4.159752e-14\n",
       "1       832016           1543415  ...  2.607801e-11  2.372904e-09\n",
       "2      1325247            760242  ...  1.629341e-19 -2.572452e-19\n",
       "3      1368400           1006992  ...  3.047045e-10  1.246592e-13\n",
       "4       140165           1708748  ...  0.000000e+00  0.000000e+00\n",
       "\n",
       "[5 rows x 54 columns]"
      ]
     },
     "execution_count": 16,
     "metadata": {
      "tags": []
     },
     "output_type": "execute_result"
    }
   ],
   "source": [
    "df_final_train.head()"
   ]
  },
  {
   "cell_type": "code",
   "execution_count": null,
   "metadata": {
    "colab": {
     "base_uri": "https://localhost:8080/",
     "height": 102
    },
    "colab_type": "code",
    "id": "OJXfuphNdqRG",
    "outputId": "4c497ca4-a0e8-4e8f-d171-a3c59cf5f4f3"
   },
   "outputs": [
    {
     "name": "stdout",
     "output_type": "stream",
     "text": [
      "Name: \n",
      "Type: Graph\n",
      "Number of nodes: 1780722\n",
      "Number of edges: 5457004\n",
      "Average degree:   6.1290\n"
     ]
    }
   ],
   "source": [
    "#Creating Graph from data_new\n",
    "train_graph=nx.read_edgelist('train_pos_after_eda.csv',delimiter=',',create_using=nx.Graph(),nodetype=int)\n",
    "print(nx.info(train_graph))"
   ]
  },
  {
   "cell_type": "markdown",
   "metadata": {
    "colab_type": "text",
    "id": "4si1Ps352Pkl"
   },
   "source": [
    "###Preferential Attachment"
   ]
  },
  {
   "cell_type": "code",
   "execution_count": null,
   "metadata": {
    "colab": {},
    "colab_type": "code",
    "id": "eJBZ6xgb2s06"
   },
   "outputs": [],
   "source": [
    "#Preferential Attachment Function\n",
    "def preferential_attachment_(a,b):\n",
    "  if train_graph.has_node(a) and train_graph.has_node(b):\n",
    "    preds = nx.preferential_attachment(train_graph, [(a,b)])\n",
    "  else:\n",
    "    preds = [(a,b,-1)]\n",
    "  for u, v, p in preds:\n",
    "     sc = p\n",
    " #   print('(%d, %d) -> %d' % (u, v, p))\n",
    "  return sc"
   ]
  },
  {
   "cell_type": "code",
   "execution_count": null,
   "metadata": {
    "colab": {
     "base_uri": "https://localhost:8080/",
     "height": 34
    },
    "colab_type": "code",
    "id": "6d-7oT5q6XUX",
    "outputId": "b90c2503-ba4f-462a-f219-c3fe9cf07cf5"
   },
   "outputs": [
    {
     "data": {
      "text/plain": [
       "-1"
      ]
     },
     "execution_count": 30,
     "metadata": {
      "tags": []
     },
     "output_type": "execute_result"
    }
   ],
   "source": [
    "preferential_attachment_(273084,15)  #Node not present in Graph"
   ]
  },
  {
   "cell_type": "code",
   "execution_count": null,
   "metadata": {
    "colab": {},
    "colab_type": "code",
    "id": "fnaiyNlE7B46"
   },
   "outputs": [],
   "source": [
    "df_final_train['preferential_attachment'] = df_final_train.apply(lambda row:\n",
    "                                            preferential_attachment_(row['source_node'],row['destination_node']),axis=1)\n",
    "df_final_test['preferential_attachment'] = df_final_test.apply(lambda row:\n",
    "                                            preferential_attachment_(row['source_node'],row['destination_node']),axis=1)"
   ]
  },
  {
   "cell_type": "markdown",
   "metadata": {
    "colab_type": "text",
    "id": "XpJE1sjX2afD"
   },
   "source": [
    "###Svd Dot between svd's of Source and Dest."
   ]
  },
  {
   "cell_type": "code",
   "execution_count": null,
   "metadata": {
    "colab": {},
    "colab_type": "code",
    "id": "r8sogEotHQvH"
   },
   "outputs": [],
   "source": [
    "#SVD_DOT Function\n",
    "def svd_dot_(df_svd):\n",
    "  svd_dot_u = 0\n",
    "  pt = 0\n",
    "  for i in range(6):\n",
    "    u_s = df_svd[pt]  #Values of svd_u_s\n",
    "    u_d = df_svd[pt+6] #Values of svd_u_d\n",
    "    svd_dot_u = svd_dot_u + (u_s+u_d)  #Elementwise Mul and Sum : (svd_u_s_i*svd_u_d_i) for all 6 values i both\n",
    "    pt = pt+1\n",
    "  #print(svd_dot_u)\n",
    "  return svd_dot_u"
   ]
  },
  {
   "cell_type": "code",
   "execution_count": null,
   "metadata": {
    "colab": {},
    "colab_type": "code",
    "id": "HYs_KaykJ1zn"
   },
   "outputs": [],
   "source": [
    "df_final_train['svd_dot_u'] = df_final_train.apply(lambda row:\n",
    "                                            svd_dot_(row[['svd_u_s_1','svd_u_s_2','svd_u_s_3','svd_u_s_4','svd_u_s_5','svd_u_s_6',\n",
    "                                                          'svd_u_d_1','svd_u_d_2','svd_u_d_3','svd_u_d_4','svd_u_d_5','svd_u_d_6']]),axis=1)"
   ]
  },
  {
   "cell_type": "code",
   "execution_count": null,
   "metadata": {
    "colab": {},
    "colab_type": "code",
    "id": "4o2537mZN4P5"
   },
   "outputs": [],
   "source": [
    "df_final_train['svd_dot_v'] = df_final_train.apply(lambda row:\n",
    "                                            svd_dot_(row[['svd_v_s_1','svd_v_s_2','svd_v_s_3','svd_v_s_4','svd_v_s_5','svd_v_s_6',\n",
    "                                                          'svd_v_d_1','svd_v_d_2','svd_v_d_3','svd_v_d_4','svd_v_d_5','svd_v_d_6']]),axis=1)"
   ]
  },
  {
   "cell_type": "code",
   "execution_count": null,
   "metadata": {
    "colab": {
     "base_uri": "https://localhost:8080/",
     "height": 309
    },
    "colab_type": "code",
    "id": "Bil_rE1bNwWn",
    "outputId": "fc44638e-8504-400e-af98-936cfdace919"
   },
   "outputs": [
    {
     "data": {
      "text/html": [
       "<div>\n",
       "<style scoped>\n",
       "    .dataframe tbody tr th:only-of-type {\n",
       "        vertical-align: middle;\n",
       "    }\n",
       "\n",
       "    .dataframe tbody tr th {\n",
       "        vertical-align: top;\n",
       "    }\n",
       "\n",
       "    .dataframe thead th {\n",
       "        text-align: right;\n",
       "    }\n",
       "</style>\n",
       "<table border=\"1\" class=\"dataframe\">\n",
       "  <thead>\n",
       "    <tr style=\"text-align: right;\">\n",
       "      <th></th>\n",
       "      <th>source_node</th>\n",
       "      <th>destination_node</th>\n",
       "      <th>indicator_link</th>\n",
       "      <th>jaccard_followers</th>\n",
       "      <th>jaccard_followees</th>\n",
       "      <th>cosine_followers</th>\n",
       "      <th>cosine_followees</th>\n",
       "      <th>num_followers_s</th>\n",
       "      <th>num_followees_s</th>\n",
       "      <th>num_followees_d</th>\n",
       "      <th>inter_followers</th>\n",
       "      <th>inter_followees</th>\n",
       "      <th>adar_index</th>\n",
       "      <th>follows_back</th>\n",
       "      <th>same_comp</th>\n",
       "      <th>shortest_path</th>\n",
       "      <th>weight_in</th>\n",
       "      <th>weight_out</th>\n",
       "      <th>weight_f1</th>\n",
       "      <th>weight_f2</th>\n",
       "      <th>weight_f3</th>\n",
       "      <th>weight_f4</th>\n",
       "      <th>page_rank_s</th>\n",
       "      <th>page_rank_d</th>\n",
       "      <th>katz_s</th>\n",
       "      <th>katz_d</th>\n",
       "      <th>hubs_s</th>\n",
       "      <th>hubs_d</th>\n",
       "      <th>authorities_s</th>\n",
       "      <th>authorities_d</th>\n",
       "      <th>svd_u_s_1</th>\n",
       "      <th>svd_u_s_2</th>\n",
       "      <th>svd_u_s_3</th>\n",
       "      <th>svd_u_s_4</th>\n",
       "      <th>svd_u_s_5</th>\n",
       "      <th>svd_u_s_6</th>\n",
       "      <th>svd_u_d_1</th>\n",
       "      <th>svd_u_d_2</th>\n",
       "      <th>svd_u_d_3</th>\n",
       "      <th>svd_u_d_4</th>\n",
       "      <th>svd_u_d_5</th>\n",
       "      <th>svd_u_d_6</th>\n",
       "      <th>svd_v_s_1</th>\n",
       "      <th>svd_v_s_2</th>\n",
       "      <th>svd_v_s_3</th>\n",
       "      <th>svd_v_s_4</th>\n",
       "      <th>svd_v_s_5</th>\n",
       "      <th>svd_v_s_6</th>\n",
       "      <th>svd_v_d_1</th>\n",
       "      <th>svd_v_d_2</th>\n",
       "      <th>svd_v_d_3</th>\n",
       "      <th>svd_v_d_4</th>\n",
       "      <th>svd_v_d_5</th>\n",
       "      <th>svd_v_d_6</th>\n",
       "      <th>preferential_attachment</th>\n",
       "      <th>svd_dot_u</th>\n",
       "      <th>svd_dot_v</th>\n",
       "    </tr>\n",
       "  </thead>\n",
       "  <tbody>\n",
       "    <tr>\n",
       "      <th>0</th>\n",
       "      <td>273084</td>\n",
       "      <td>1505602</td>\n",
       "      <td>1</td>\n",
       "      <td>0</td>\n",
       "      <td>0.000000</td>\n",
       "      <td>0.000000</td>\n",
       "      <td>0.000000</td>\n",
       "      <td>6</td>\n",
       "      <td>15</td>\n",
       "      <td>8</td>\n",
       "      <td>0</td>\n",
       "      <td>0</td>\n",
       "      <td>0.000000</td>\n",
       "      <td>0</td>\n",
       "      <td>1</td>\n",
       "      <td>4</td>\n",
       "      <td>0.377964</td>\n",
       "      <td>0.250000</td>\n",
       "      <td>0.627964</td>\n",
       "      <td>0.094491</td>\n",
       "      <td>1.005929</td>\n",
       "      <td>0.877964</td>\n",
       "      <td>2.045290e-06</td>\n",
       "      <td>3.459963e-07</td>\n",
       "      <td>0.000773</td>\n",
       "      <td>0.000756</td>\n",
       "      <td>1.943132e-13</td>\n",
       "      <td>1.941103e-13</td>\n",
       "      <td>9.226339e-16</td>\n",
       "      <td>2.231877e-15</td>\n",
       "      <td>-1.666226e-13</td>\n",
       "      <td>4.613397e-13</td>\n",
       "      <td>1.043044e-05</td>\n",
       "      <td>6.676960e-13</td>\n",
       "      <td>2.451081e-13</td>\n",
       "      <td>3.584580e-12</td>\n",
       "      <td>-2.038017e-11</td>\n",
       "      <td>5.397495e-13</td>\n",
       "      <td>1.068946e-06</td>\n",
       "      <td>1.192357e-12</td>\n",
       "      <td>2.279485e-12</td>\n",
       "      <td>3.580837e-12</td>\n",
       "      <td>-7.216133e-13</td>\n",
       "      <td>3.925975e-13</td>\n",
       "      <td>1.983691e-06</td>\n",
       "      <td>1.545075e-13</td>\n",
       "      <td>8.108434e-13</td>\n",
       "      <td>1.719702e-14</td>\n",
       "      <td>-1.355368e-12</td>\n",
       "      <td>4.675307e-13</td>\n",
       "      <td>1.128591e-06</td>\n",
       "      <td>6.616550e-14</td>\n",
       "      <td>9.771077e-13</td>\n",
       "      <td>4.159752e-14</td>\n",
       "      <td>144</td>\n",
       "      <td>1.149938e-05</td>\n",
       "      <td>3.112282e-06</td>\n",
       "    </tr>\n",
       "    <tr>\n",
       "      <th>1</th>\n",
       "      <td>832016</td>\n",
       "      <td>1543415</td>\n",
       "      <td>1</td>\n",
       "      <td>0</td>\n",
       "      <td>0.187135</td>\n",
       "      <td>0.028382</td>\n",
       "      <td>0.343828</td>\n",
       "      <td>94</td>\n",
       "      <td>61</td>\n",
       "      <td>142</td>\n",
       "      <td>11</td>\n",
       "      <td>32</td>\n",
       "      <td>16.362912</td>\n",
       "      <td>0</td>\n",
       "      <td>1</td>\n",
       "      <td>2</td>\n",
       "      <td>0.102598</td>\n",
       "      <td>0.127000</td>\n",
       "      <td>0.229598</td>\n",
       "      <td>0.013030</td>\n",
       "      <td>0.332196</td>\n",
       "      <td>0.356598</td>\n",
       "      <td>2.353458e-07</td>\n",
       "      <td>6.427660e-07</td>\n",
       "      <td>0.000845</td>\n",
       "      <td>0.001317</td>\n",
       "      <td>3.906648e-11</td>\n",
       "      <td>9.424102e-11</td>\n",
       "      <td>1.208074e-11</td>\n",
       "      <td>1.273080e-10</td>\n",
       "      <td>7.051088e-13</td>\n",
       "      <td>-8.250564e-11</td>\n",
       "      <td>-1.717702e-10</td>\n",
       "      <td>3.705016e-02</td>\n",
       "      <td>1.032392e-11</td>\n",
       "      <td>7.207497e-10</td>\n",
       "      <td>1.644399e-12</td>\n",
       "      <td>-2.047752e-10</td>\n",
       "      <td>-3.943936e-10</td>\n",
       "      <td>8.617541e-02</td>\n",
       "      <td>2.399540e-11</td>\n",
       "      <td>1.738682e-09</td>\n",
       "      <td>2.685878e-13</td>\n",
       "      <td>-3.316849e-11</td>\n",
       "      <td>-6.236048e-11</td>\n",
       "      <td>1.345726e-02</td>\n",
       "      <td>3.703479e-12</td>\n",
       "      <td>2.251737e-10</td>\n",
       "      <td>1.245101e-12</td>\n",
       "      <td>-1.636948e-10</td>\n",
       "      <td>-3.112650e-10</td>\n",
       "      <td>6.738902e-02</td>\n",
       "      <td>2.607801e-11</td>\n",
       "      <td>2.372904e-09</td>\n",
       "      <td>14134</td>\n",
       "      <td>1.232256e-01</td>\n",
       "      <td>8.084629e-02</td>\n",
       "    </tr>\n",
       "    <tr>\n",
       "      <th>2</th>\n",
       "      <td>1325247</td>\n",
       "      <td>760242</td>\n",
       "      <td>1</td>\n",
       "      <td>0</td>\n",
       "      <td>0.369565</td>\n",
       "      <td>0.156957</td>\n",
       "      <td>0.566038</td>\n",
       "      <td>28</td>\n",
       "      <td>41</td>\n",
       "      <td>22</td>\n",
       "      <td>26</td>\n",
       "      <td>17</td>\n",
       "      <td>10.991826</td>\n",
       "      <td>0</td>\n",
       "      <td>1</td>\n",
       "      <td>2</td>\n",
       "      <td>0.185695</td>\n",
       "      <td>0.154303</td>\n",
       "      <td>0.339999</td>\n",
       "      <td>0.028653</td>\n",
       "      <td>0.525694</td>\n",
       "      <td>0.494302</td>\n",
       "      <td>6.211019e-07</td>\n",
       "      <td>5.179801e-07</td>\n",
       "      <td>0.000885</td>\n",
       "      <td>0.000855</td>\n",
       "      <td>7.730764e-114</td>\n",
       "      <td>4.067322e-114</td>\n",
       "      <td>2.681298e-113</td>\n",
       "      <td>2.199205e-113</td>\n",
       "      <td>-4.900734e-18</td>\n",
       "      <td>1.096831e-18</td>\n",
       "      <td>-6.816555e-19</td>\n",
       "      <td>-2.226453e-18</td>\n",
       "      <td>6.710556e-19</td>\n",
       "      <td>-8.161336e-19</td>\n",
       "      <td>-2.606312e-18</td>\n",
       "      <td>6.392474e-19</td>\n",
       "      <td>-4.245830e-19</td>\n",
       "      <td>-1.315747e-18</td>\n",
       "      <td>3.849627e-19</td>\n",
       "      <td>-1.131971e-18</td>\n",
       "      <td>-1.510265e-18</td>\n",
       "      <td>1.454979e-19</td>\n",
       "      <td>-2.380564e-19</td>\n",
       "      <td>-7.021227e-19</td>\n",
       "      <td>1.940403e-19</td>\n",
       "      <td>-3.365389e-19</td>\n",
       "      <td>-1.238370e-18</td>\n",
       "      <td>1.438175e-19</td>\n",
       "      <td>-1.852863e-19</td>\n",
       "      <td>-5.901864e-19</td>\n",
       "      <td>1.629341e-19</td>\n",
       "      <td>-2.572452e-19</td>\n",
       "      <td>1920</td>\n",
       "      <td>-1.131149e-17</td>\n",
       "      <td>-4.411781e-18</td>\n",
       "    </tr>\n",
       "    <tr>\n",
       "      <th>3</th>\n",
       "      <td>1368400</td>\n",
       "      <td>1006992</td>\n",
       "      <td>1</td>\n",
       "      <td>0</td>\n",
       "      <td>0.000000</td>\n",
       "      <td>0.000000</td>\n",
       "      <td>0.000000</td>\n",
       "      <td>11</td>\n",
       "      <td>5</td>\n",
       "      <td>7</td>\n",
       "      <td>0</td>\n",
       "      <td>0</td>\n",
       "      <td>0.000000</td>\n",
       "      <td>0</td>\n",
       "      <td>1</td>\n",
       "      <td>6</td>\n",
       "      <td>0.288675</td>\n",
       "      <td>0.408248</td>\n",
       "      <td>0.696923</td>\n",
       "      <td>0.117851</td>\n",
       "      <td>0.985599</td>\n",
       "      <td>1.105172</td>\n",
       "      <td>2.998153e-07</td>\n",
       "      <td>1.704245e-06</td>\n",
       "      <td>0.000739</td>\n",
       "      <td>0.000773</td>\n",
       "      <td>5.443738e-17</td>\n",
       "      <td>4.139999e-16</td>\n",
       "      <td>2.413250e-14</td>\n",
       "      <td>6.688064e-15</td>\n",
       "      <td>-9.965436e-12</td>\n",
       "      <td>4.077137e-13</td>\n",
       "      <td>5.083778e-10</td>\n",
       "      <td>1.985267e-14</td>\n",
       "      <td>2.471968e-12</td>\n",
       "      <td>1.004354e-15</td>\n",
       "      <td>-2.629029e-13</td>\n",
       "      <td>1.428940e-11</td>\n",
       "      <td>9.146784e-11</td>\n",
       "      <td>8.590132e-12</td>\n",
       "      <td>2.406658e-10</td>\n",
       "      <td>7.638106e-15</td>\n",
       "      <td>-2.170899e-13</td>\n",
       "      <td>5.206150e-13</td>\n",
       "      <td>6.058498e-11</td>\n",
       "      <td>1.514614e-11</td>\n",
       "      <td>1.513483e-12</td>\n",
       "      <td>4.498061e-13</td>\n",
       "      <td>-9.818087e-10</td>\n",
       "      <td>3.454672e-11</td>\n",
       "      <td>5.213635e-08</td>\n",
       "      <td>9.595823e-13</td>\n",
       "      <td>3.047045e-10</td>\n",
       "      <td>1.246592e-13</td>\n",
       "      <td>70</td>\n",
       "      <td>8.560709e-10</td>\n",
       "      <td>5.157287e-08</td>\n",
       "    </tr>\n",
       "    <tr>\n",
       "      <th>4</th>\n",
       "      <td>140165</td>\n",
       "      <td>1708748</td>\n",
       "      <td>1</td>\n",
       "      <td>0</td>\n",
       "      <td>0.000000</td>\n",
       "      <td>0.000000</td>\n",
       "      <td>0.000000</td>\n",
       "      <td>1</td>\n",
       "      <td>11</td>\n",
       "      <td>3</td>\n",
       "      <td>0</td>\n",
       "      <td>0</td>\n",
       "      <td>0.000000</td>\n",
       "      <td>0</td>\n",
       "      <td>0</td>\n",
       "      <td>-1</td>\n",
       "      <td>1.000000</td>\n",
       "      <td>0.301511</td>\n",
       "      <td>1.301511</td>\n",
       "      <td>0.301511</td>\n",
       "      <td>2.301511</td>\n",
       "      <td>1.603023</td>\n",
       "      <td>4.349180e-07</td>\n",
       "      <td>2.089590e-07</td>\n",
       "      <td>0.000751</td>\n",
       "      <td>0.000735</td>\n",
       "      <td>3.887821e-16</td>\n",
       "      <td>4.721269e-16</td>\n",
       "      <td>7.552255e-16</td>\n",
       "      <td>2.734009e-18</td>\n",
       "      <td>-3.408943e-13</td>\n",
       "      <td>1.125207e-13</td>\n",
       "      <td>3.190883e-07</td>\n",
       "      <td>8.550846e-14</td>\n",
       "      <td>1.405351e-13</td>\n",
       "      <td>7.172313e-15</td>\n",
       "      <td>-2.550169e-13</td>\n",
       "      <td>2.424636e-13</td>\n",
       "      <td>2.436301e-07</td>\n",
       "      <td>3.679960e-14</td>\n",
       "      <td>1.348520e-13</td>\n",
       "      <td>8.710393e-15</td>\n",
       "      <td>-4.795514e-13</td>\n",
       "      <td>1.521297e-13</td>\n",
       "      <td>1.197283e-07</td>\n",
       "      <td>1.999809e-14</td>\n",
       "      <td>3.360247e-13</td>\n",
       "      <td>1.407670e-14</td>\n",
       "      <td>0.000000e+00</td>\n",
       "      <td>0.000000e+00</td>\n",
       "      <td>0.000000e+00</td>\n",
       "      <td>0.000000e+00</td>\n",
       "      <td>0.000000e+00</td>\n",
       "      <td>0.000000e+00</td>\n",
       "      <td>52</td>\n",
       "      <td>5.627186e-07</td>\n",
       "      <td>1.197284e-07</td>\n",
       "    </tr>\n",
       "  </tbody>\n",
       "</table>\n",
       "</div>"
      ],
      "text/plain": [
       "   source_node  destination_node  ...     svd_dot_u     svd_dot_v\n",
       "0       273084           1505602  ...  1.149938e-05  3.112282e-06\n",
       "1       832016           1543415  ...  1.232256e-01  8.084629e-02\n",
       "2      1325247            760242  ... -1.131149e-17 -4.411781e-18\n",
       "3      1368400           1006992  ...  8.560709e-10  5.157287e-08\n",
       "4       140165           1708748  ...  5.627186e-07  1.197284e-07\n",
       "\n",
       "[5 rows x 57 columns]"
      ]
     },
     "execution_count": 68,
     "metadata": {
      "tags": []
     },
     "output_type": "execute_result"
    }
   ],
   "source": [
    "df_final_train.head()"
   ]
  },
  {
   "cell_type": "code",
   "execution_count": null,
   "metadata": {
    "colab": {
     "base_uri": "https://localhost:8080/",
     "height": 51
    },
    "colab_type": "code",
    "id": "YxQrn8axOkH1",
    "outputId": "e71d1377-693b-42e7-dcf8-3468e4384a0c"
   },
   "outputs": [
    {
     "name": "stderr",
     "output_type": "stream",
     "text": [
      "100%|██████████| 50002/50002 [00:00<00:00, 2101291.38it/s]\n",
      "100%|██████████| 50002/50002 [00:00<00:00, 2191308.77it/s]\n"
     ]
    }
   ],
   "source": [
    "df_final_test['svd_dot_u'] = tqdm(df_final_test.apply(lambda row:\n",
    "                                            svd_dot_(row[['svd_u_s_1','svd_u_s_2','svd_u_s_3','svd_u_s_4','svd_u_s_5','svd_u_s_6',\n",
    "                                                          'svd_u_d_1','svd_u_d_2','svd_u_d_3','svd_u_d_4','svd_u_d_5','svd_u_d_6']]),axis=1))\n",
    "df_final_test['svd_dot_v'] = tqdm(df_final_test.apply(lambda row:\n",
    "                                            svd_dot_(row[['svd_v_s_1','svd_v_s_2','svd_v_s_3','svd_v_s_4','svd_v_s_5','svd_v_s_6',\n",
    "                                                          'svd_v_d_1','svd_v_d_2','svd_v_d_3','svd_v_d_4','svd_v_d_5','svd_v_d_6']]),axis=1))"
   ]
  },
  {
   "cell_type": "code",
   "execution_count": null,
   "metadata": {
    "colab": {
     "base_uri": "https://localhost:8080/",
     "height": 309
    },
    "colab_type": "code",
    "id": "7wHOScRrEaBx",
    "outputId": "55e12db8-831c-481f-eec4-02f0fe49e405"
   },
   "outputs": [
    {
     "data": {
      "text/html": [
       "<div>\n",
       "<style scoped>\n",
       "    .dataframe tbody tr th:only-of-type {\n",
       "        vertical-align: middle;\n",
       "    }\n",
       "\n",
       "    .dataframe tbody tr th {\n",
       "        vertical-align: top;\n",
       "    }\n",
       "\n",
       "    .dataframe thead th {\n",
       "        text-align: right;\n",
       "    }\n",
       "</style>\n",
       "<table border=\"1\" class=\"dataframe\">\n",
       "  <thead>\n",
       "    <tr style=\"text-align: right;\">\n",
       "      <th></th>\n",
       "      <th>source_node</th>\n",
       "      <th>destination_node</th>\n",
       "      <th>indicator_link</th>\n",
       "      <th>jaccard_followers</th>\n",
       "      <th>jaccard_followees</th>\n",
       "      <th>cosine_followers</th>\n",
       "      <th>cosine_followees</th>\n",
       "      <th>num_followers_s</th>\n",
       "      <th>num_followees_s</th>\n",
       "      <th>num_followees_d</th>\n",
       "      <th>inter_followers</th>\n",
       "      <th>inter_followees</th>\n",
       "      <th>adar_index</th>\n",
       "      <th>follows_back</th>\n",
       "      <th>same_comp</th>\n",
       "      <th>shortest_path</th>\n",
       "      <th>weight_in</th>\n",
       "      <th>weight_out</th>\n",
       "      <th>weight_f1</th>\n",
       "      <th>weight_f2</th>\n",
       "      <th>weight_f3</th>\n",
       "      <th>weight_f4</th>\n",
       "      <th>page_rank_s</th>\n",
       "      <th>page_rank_d</th>\n",
       "      <th>katz_s</th>\n",
       "      <th>katz_d</th>\n",
       "      <th>hubs_s</th>\n",
       "      <th>hubs_d</th>\n",
       "      <th>authorities_s</th>\n",
       "      <th>authorities_d</th>\n",
       "      <th>svd_u_s_1</th>\n",
       "      <th>svd_u_s_2</th>\n",
       "      <th>svd_u_s_3</th>\n",
       "      <th>svd_u_s_4</th>\n",
       "      <th>svd_u_s_5</th>\n",
       "      <th>svd_u_s_6</th>\n",
       "      <th>svd_u_d_1</th>\n",
       "      <th>svd_u_d_2</th>\n",
       "      <th>svd_u_d_3</th>\n",
       "      <th>svd_u_d_4</th>\n",
       "      <th>svd_u_d_5</th>\n",
       "      <th>svd_u_d_6</th>\n",
       "      <th>svd_v_s_1</th>\n",
       "      <th>svd_v_s_2</th>\n",
       "      <th>svd_v_s_3</th>\n",
       "      <th>svd_v_s_4</th>\n",
       "      <th>svd_v_s_5</th>\n",
       "      <th>svd_v_s_6</th>\n",
       "      <th>svd_v_d_1</th>\n",
       "      <th>svd_v_d_2</th>\n",
       "      <th>svd_v_d_3</th>\n",
       "      <th>svd_v_d_4</th>\n",
       "      <th>svd_v_d_5</th>\n",
       "      <th>svd_v_d_6</th>\n",
       "      <th>preferential_attachment</th>\n",
       "      <th>svd_dot_u</th>\n",
       "      <th>svd_dot_v</th>\n",
       "    </tr>\n",
       "  </thead>\n",
       "  <tbody>\n",
       "    <tr>\n",
       "      <th>0</th>\n",
       "      <td>848424</td>\n",
       "      <td>784690</td>\n",
       "      <td>1</td>\n",
       "      <td>0</td>\n",
       "      <td>0.0</td>\n",
       "      <td>0.029161</td>\n",
       "      <td>0.000000</td>\n",
       "      <td>14</td>\n",
       "      <td>6</td>\n",
       "      <td>9</td>\n",
       "      <td>1</td>\n",
       "      <td>0</td>\n",
       "      <td>0.000000</td>\n",
       "      <td>1</td>\n",
       "      <td>1</td>\n",
       "      <td>2</td>\n",
       "      <td>0.258199</td>\n",
       "      <td>0.377964</td>\n",
       "      <td>0.636163</td>\n",
       "      <td>0.097590</td>\n",
       "      <td>0.894362</td>\n",
       "      <td>1.014128</td>\n",
       "      <td>6.557971e-07</td>\n",
       "      <td>0.000002</td>\n",
       "      <td>0.000754</td>\n",
       "      <td>0.000786</td>\n",
       "      <td>3.243237e-16</td>\n",
       "      <td>1.745627e-16</td>\n",
       "      <td>2.969838e-15</td>\n",
       "      <td>9.269213e-14</td>\n",
       "      <td>-9.987979e-12</td>\n",
       "      <td>2.283676e-13</td>\n",
       "      <td>1.439968e-10</td>\n",
       "      <td>6.136162e-13</td>\n",
       "      <td>4.188171e-13</td>\n",
       "      <td>5.983361e-15</td>\n",
       "      <td>-1.026186e-11</td>\n",
       "      <td>5.316372e-13</td>\n",
       "      <td>5.843225e-10</td>\n",
       "      <td>1.166047e-13</td>\n",
       "      <td>2.253356e-11</td>\n",
       "      <td>3.220367e-15</td>\n",
       "      <td>-2.148852e-13</td>\n",
       "      <td>1.883148e-13</td>\n",
       "      <td>5.904807e-11</td>\n",
       "      <td>2.701538e-12</td>\n",
       "      <td>4.341620e-13</td>\n",
       "      <td>5.535503e-14</td>\n",
       "      <td>-9.994076e-10</td>\n",
       "      <td>5.791910e-10</td>\n",
       "      <td>3.512364e-07</td>\n",
       "      <td>2.486658e-09</td>\n",
       "      <td>2.771146e-09</td>\n",
       "      <td>1.727694e-12</td>\n",
       "      <td>133</td>\n",
       "      <td>7.325212e-10</td>\n",
       "      <td>3.561379e-07</td>\n",
       "    </tr>\n",
       "    <tr>\n",
       "      <th>1</th>\n",
       "      <td>483294</td>\n",
       "      <td>1255532</td>\n",
       "      <td>1</td>\n",
       "      <td>0</td>\n",
       "      <td>0.0</td>\n",
       "      <td>0.000000</td>\n",
       "      <td>0.000000</td>\n",
       "      <td>17</td>\n",
       "      <td>1</td>\n",
       "      <td>19</td>\n",
       "      <td>0</td>\n",
       "      <td>0</td>\n",
       "      <td>0.000000</td>\n",
       "      <td>1</td>\n",
       "      <td>1</td>\n",
       "      <td>7</td>\n",
       "      <td>0.235702</td>\n",
       "      <td>0.707107</td>\n",
       "      <td>0.942809</td>\n",
       "      <td>0.166667</td>\n",
       "      <td>1.178511</td>\n",
       "      <td>1.649916</td>\n",
       "      <td>2.172064e-07</td>\n",
       "      <td>0.000001</td>\n",
       "      <td>0.000739</td>\n",
       "      <td>0.000801</td>\n",
       "      <td>1.702625e-19</td>\n",
       "      <td>2.706300e-15</td>\n",
       "      <td>2.522357e-16</td>\n",
       "      <td>5.277458e-15</td>\n",
       "      <td>-2.079151e-15</td>\n",
       "      <td>7.009864e-16</td>\n",
       "      <td>6.970710e-10</td>\n",
       "      <td>9.561769e-15</td>\n",
       "      <td>1.728794e-15</td>\n",
       "      <td>3.122935e-18</td>\n",
       "      <td>-1.960277e-11</td>\n",
       "      <td>2.861530e-11</td>\n",
       "      <td>1.939773e-08</td>\n",
       "      <td>1.907382e-12</td>\n",
       "      <td>3.797410e-11</td>\n",
       "      <td>4.992848e-14</td>\n",
       "      <td>-4.054309e-13</td>\n",
       "      <td>2.895682e-13</td>\n",
       "      <td>2.545382e-10</td>\n",
       "      <td>2.248568e-14</td>\n",
       "      <td>3.600957e-13</td>\n",
       "      <td>4.701436e-15</td>\n",
       "      <td>-9.360516e-12</td>\n",
       "      <td>3.206809e-10</td>\n",
       "      <td>4.668696e-08</td>\n",
       "      <td>6.665777e-12</td>\n",
       "      <td>1.495979e-10</td>\n",
       "      <td>9.836670e-14</td>\n",
       "      <td>54</td>\n",
       "      <td>2.014376e-08</td>\n",
       "      <td>4.740945e-08</td>\n",
       "    </tr>\n",
       "    <tr>\n",
       "      <th>2</th>\n",
       "      <td>626190</td>\n",
       "      <td>1729265</td>\n",
       "      <td>1</td>\n",
       "      <td>0</td>\n",
       "      <td>0.0</td>\n",
       "      <td>0.000000</td>\n",
       "      <td>0.000000</td>\n",
       "      <td>10</td>\n",
       "      <td>16</td>\n",
       "      <td>9</td>\n",
       "      <td>0</td>\n",
       "      <td>0</td>\n",
       "      <td>0.000000</td>\n",
       "      <td>0</td>\n",
       "      <td>1</td>\n",
       "      <td>5</td>\n",
       "      <td>0.301511</td>\n",
       "      <td>0.242536</td>\n",
       "      <td>0.544047</td>\n",
       "      <td>0.073127</td>\n",
       "      <td>0.845558</td>\n",
       "      <td>0.786583</td>\n",
       "      <td>1.853369e-06</td>\n",
       "      <td>0.000002</td>\n",
       "      <td>0.000789</td>\n",
       "      <td>0.000770</td>\n",
       "      <td>9.426796e-14</td>\n",
       "      <td>4.116616e-16</td>\n",
       "      <td>2.253244e-15</td>\n",
       "      <td>2.079387e-15</td>\n",
       "      <td>-1.782290e-11</td>\n",
       "      <td>2.389627e-11</td>\n",
       "      <td>1.443050e-06</td>\n",
       "      <td>2.358030e-12</td>\n",
       "      <td>2.689638e-12</td>\n",
       "      <td>1.739178e-12</td>\n",
       "      <td>-1.863934e-13</td>\n",
       "      <td>1.806783e-13</td>\n",
       "      <td>2.544597e-07</td>\n",
       "      <td>1.693295e-13</td>\n",
       "      <td>2.712748e-13</td>\n",
       "      <td>7.594641e-15</td>\n",
       "      <td>-4.148103e-13</td>\n",
       "      <td>4.618813e-12</td>\n",
       "      <td>1.122150e-05</td>\n",
       "      <td>1.778927e-12</td>\n",
       "      <td>2.740535e-13</td>\n",
       "      <td>4.199834e-14</td>\n",
       "      <td>-4.253075e-13</td>\n",
       "      <td>4.789463e-13</td>\n",
       "      <td>3.479824e-07</td>\n",
       "      <td>1.630549e-13</td>\n",
       "      <td>3.954708e-13</td>\n",
       "      <td>3.875785e-14</td>\n",
       "      <td>220</td>\n",
       "      <td>1.697523e-06</td>\n",
       "      <td>1.156949e-05</td>\n",
       "    </tr>\n",
       "    <tr>\n",
       "      <th>3</th>\n",
       "      <td>947219</td>\n",
       "      <td>425228</td>\n",
       "      <td>1</td>\n",
       "      <td>0</td>\n",
       "      <td>0.0</td>\n",
       "      <td>0.000000</td>\n",
       "      <td>0.000000</td>\n",
       "      <td>37</td>\n",
       "      <td>10</td>\n",
       "      <td>34</td>\n",
       "      <td>0</td>\n",
       "      <td>0</td>\n",
       "      <td>0.000000</td>\n",
       "      <td>0</td>\n",
       "      <td>1</td>\n",
       "      <td>3</td>\n",
       "      <td>0.162221</td>\n",
       "      <td>0.301511</td>\n",
       "      <td>0.463733</td>\n",
       "      <td>0.048912</td>\n",
       "      <td>0.625954</td>\n",
       "      <td>0.765244</td>\n",
       "      <td>7.000791e-07</td>\n",
       "      <td>0.000002</td>\n",
       "      <td>0.000778</td>\n",
       "      <td>0.000884</td>\n",
       "      <td>9.876114e-14</td>\n",
       "      <td>1.039593e-13</td>\n",
       "      <td>1.511694e-14</td>\n",
       "      <td>3.478438e-14</td>\n",
       "      <td>-4.491246e-11</td>\n",
       "      <td>9.917404e-13</td>\n",
       "      <td>7.891250e-06</td>\n",
       "      <td>9.458624e-12</td>\n",
       "      <td>2.715848e-11</td>\n",
       "      <td>1.822074e-12</td>\n",
       "      <td>-1.070733e-10</td>\n",
       "      <td>2.888035e-12</td>\n",
       "      <td>2.070703e-05</td>\n",
       "      <td>7.229355e-12</td>\n",
       "      <td>3.563659e-11</td>\n",
       "      <td>1.917977e-12</td>\n",
       "      <td>-8.942488e-12</td>\n",
       "      <td>5.535630e-12</td>\n",
       "      <td>5.223676e-06</td>\n",
       "      <td>7.917166e-13</td>\n",
       "      <td>4.020707e-12</td>\n",
       "      <td>2.817657e-13</td>\n",
       "      <td>-2.162590e-11</td>\n",
       "      <td>6.939194e-12</td>\n",
       "      <td>1.879861e-05</td>\n",
       "      <td>4.384816e-12</td>\n",
       "      <td>1.239414e-11</td>\n",
       "      <td>6.483485e-13</td>\n",
       "      <td>765</td>\n",
       "      <td>2.859822e-05</td>\n",
       "      <td>2.402229e-05</td>\n",
       "    </tr>\n",
       "    <tr>\n",
       "      <th>4</th>\n",
       "      <td>991374</td>\n",
       "      <td>975044</td>\n",
       "      <td>1</td>\n",
       "      <td>0</td>\n",
       "      <td>0.2</td>\n",
       "      <td>0.042767</td>\n",
       "      <td>0.347833</td>\n",
       "      <td>27</td>\n",
       "      <td>15</td>\n",
       "      <td>27</td>\n",
       "      <td>4</td>\n",
       "      <td>7</td>\n",
       "      <td>6.136433</td>\n",
       "      <td>0</td>\n",
       "      <td>1</td>\n",
       "      <td>2</td>\n",
       "      <td>0.188982</td>\n",
       "      <td>0.250000</td>\n",
       "      <td>0.438982</td>\n",
       "      <td>0.047246</td>\n",
       "      <td>0.627964</td>\n",
       "      <td>0.688982</td>\n",
       "      <td>7.103008e-07</td>\n",
       "      <td>0.000001</td>\n",
       "      <td>0.000779</td>\n",
       "      <td>0.000840</td>\n",
       "      <td>1.557332e-15</td>\n",
       "      <td>1.096037e-14</td>\n",
       "      <td>5.180869e-15</td>\n",
       "      <td>1.296135e-14</td>\n",
       "      <td>-9.778448e-13</td>\n",
       "      <td>5.724610e-13</td>\n",
       "      <td>4.951883e-06</td>\n",
       "      <td>1.396834e-12</td>\n",
       "      <td>2.153249e-11</td>\n",
       "      <td>2.873183e-14</td>\n",
       "      <td>-2.275780e-11</td>\n",
       "      <td>1.007615e-12</td>\n",
       "      <td>2.517628e-06</td>\n",
       "      <td>1.394103e-10</td>\n",
       "      <td>2.961969e-11</td>\n",
       "      <td>2.022115e-13</td>\n",
       "      <td>-3.804979e-12</td>\n",
       "      <td>1.593011e-13</td>\n",
       "      <td>1.035016e-06</td>\n",
       "      <td>1.361574e-13</td>\n",
       "      <td>1.154623e-12</td>\n",
       "      <td>9.656662e-14</td>\n",
       "      <td>-8.742904e-12</td>\n",
       "      <td>7.467370e-12</td>\n",
       "      <td>1.256880e-05</td>\n",
       "      <td>3.636983e-12</td>\n",
       "      <td>3.948463e-12</td>\n",
       "      <td>2.415863e-13</td>\n",
       "      <td>544</td>\n",
       "      <td>7.469681e-06</td>\n",
       "      <td>1.360382e-05</td>\n",
       "    </tr>\n",
       "  </tbody>\n",
       "</table>\n",
       "</div>"
      ],
      "text/plain": [
       "   source_node  destination_node  ...     svd_dot_u     svd_dot_v\n",
       "0       848424            784690  ...  7.325212e-10  3.561379e-07\n",
       "1       483294           1255532  ...  2.014376e-08  4.740945e-08\n",
       "2       626190           1729265  ...  1.697523e-06  1.156949e-05\n",
       "3       947219            425228  ...  2.859822e-05  2.402229e-05\n",
       "4       991374            975044  ...  7.469681e-06  1.360382e-05\n",
       "\n",
       "[5 rows x 57 columns]"
      ]
     },
     "execution_count": 70,
     "metadata": {
      "tags": []
     },
     "output_type": "execute_result"
    }
   ],
   "source": [
    "df_final_test.head()"
   ]
  },
  {
   "cell_type": "markdown",
   "metadata": {
    "colab_type": "text",
    "id": "2Y8pJD7K2AsO"
   },
   "source": [
    "###Implementation for XGBoost Starts Here"
   ]
  },
  {
   "cell_type": "code",
   "execution_count": null,
   "metadata": {
    "colab": {},
    "colab_type": "code",
    "id": "617nOF3CEiqs"
   },
   "outputs": [],
   "source": [
    "y_train = df_final_train.indicator_link\n",
    "y_test = df_final_test.indicator_link"
   ]
  },
  {
   "cell_type": "code",
   "execution_count": null,
   "metadata": {
    "colab": {},
    "colab_type": "code",
    "id": "s2vOZX_sQ5yG"
   },
   "outputs": [],
   "source": [
    "df_final_train.drop(['source_node', 'destination_node','indicator_link'],axis=1,inplace=True)\n",
    "df_final_test.drop(['source_node', 'destination_node','indicator_link'],axis=1,inplace=True)"
   ]
  },
  {
   "cell_type": "code",
   "execution_count": null,
   "metadata": {
    "colab": {
     "base_uri": "https://localhost:8080/",
     "height": 448
    },
    "colab_type": "code",
    "id": "A7XtfkmDGGjO",
    "outputId": "babe7e81-5c3e-4f4d-b8ef-5ecc9fe05848"
   },
   "outputs": [
    {
     "name": "stdout",
     "output_type": "stream",
     "text": [
      "Estimators =  10 Train Score 0.8987468187236235 test Score 0.874023694602896\n",
      "Estimators =  50 Train Score 0.9269906841461872 test Score 0.923373351119016\n",
      "Estimators =  100 Train Score 0.9276093214818552 test Score 0.9165462734766722\n",
      "Estimators =  250 Train Score 0.961156351791531 test Score 0.9190048317368823\n",
      "Estimators =  450 Train Score 0.9686075025839531 test Score 0.9233377842775694\n",
      "Estimators =  550 Train Score 0.9707796479792714 test Score 0.9207821775858034\n",
      "Estimators =  700 Train Score 0.9728346098200104 test Score 0.9120357442055291\n",
      "Estimators =  750 Train Score 0.973202720207254 test Score 0.9131769301766511\n"
     ]
    },
    {
     "data": {
      "text/plain": [
       "Text(0.5, 1.0, 'Estimators vs score at depth of 5')"
      ]
     },
     "execution_count": 90,
     "metadata": {
      "tags": []
     },
     "output_type": "execute_result"
    },
    {
     "data": {
      "image/png": "[encoded data removed]",
      "text/plain": [
       "<Figure size 864x288 with 1 Axes>"
      ]
     },
     "metadata": {
      "needs_background": "light",
      "tags": []
     },
     "output_type": "display_data"
    }
   ],
   "source": [
    "#Implementing XGBoost Here\n",
    "estimators = [10,50,100,250,450,550,700,750]\n",
    "train_scores = []\n",
    "test_scores = []\n",
    "for i in estimators:\n",
    "    clf = XGBClassifier(silent=False, \n",
    "                      scale_pos_weight=1,\n",
    "                      learning_rate=0.01,  \n",
    "                      colsample_bytree = 0.4,\n",
    "                      subsample = 0.8,\n",
    "                      objective='binary:logistic', \n",
    "                      n_estimators=i, \n",
    "                      reg_alpha = 0.3,\n",
    "                      max_depth=4, \n",
    "                      gamma=10)\n",
    "    clf.fit(df_final_train,y_train)\n",
    "    train_sc = f1_score(y_train,clf.predict(df_final_train))\n",
    "    test_sc = f1_score(y_test,clf.predict(df_final_test))\n",
    "    test_scores.append(test_sc)\n",
    "    train_scores.append(train_sc)\n",
    "    print('Estimators = ',i,'Train Score',train_sc,'test Score',test_sc)\n",
    "plt.plot(estimators,train_scores,label='Train Score')\n",
    "plt.plot(estimators,test_scores,label='Test Score')\n",
    "plt.xlabel('Estimators')\n",
    "plt.ylabel('Score')\n",
    "plt.title('Estimators vs score at depth of 5')"
   ]
  },
  {
   "cell_type": "code",
   "execution_count": null,
   "metadata": {
    "colab": {
     "base_uri": "https://localhost:8080/",
     "height": 465
    },
    "colab_type": "code",
    "id": "RM1YHLjtW7k1",
    "outputId": "a44ace85-4e84-4406-dd11-8aab490a8b13"
   },
   "outputs": [
    {
     "name": "stdout",
     "output_type": "stream",
     "text": [
      "Estimators =  10 Train Score 0.8987468187236235 test Score 0.874023694602896\n",
      "Estimators =  15 Train Score 0.9233213057153978 test Score 0.9084430409456548\n",
      "Estimators =  25 Train Score 0.9267309174205398 test Score 0.9195382714997657\n",
      "Estimators =  35 Train Score 0.9254898653990071 test Score 0.9221612691419736\n",
      "Estimators =  40 Train Score 0.925730673527055 test Score 0.922333799415279\n",
      "Estimators =  45 Train Score 0.9262387565509896 test Score 0.9231421425240579\n",
      "Estimators =  50 Train Score 0.9269906841461872 test Score 0.923373351119016\n",
      "Estimators =  55 Train Score 0.9267256786022161 test Score 0.9151244416081685\n",
      "Estimators =  60 Train Score 0.9272975814931651 test Score 0.9146118138069077\n"
     ]
    },
    {
     "data": {
      "text/plain": [
       "Text(0.5, 1.0, 'Estimators vs score at depth of 5')"
      ]
     },
     "execution_count": 91,
     "metadata": {
      "tags": []
     },
     "output_type": "execute_result"
    },
    {
     "data": {
      "image/png": "[encoded data removed]",
      "text/plain": [
       "<Figure size 864x288 with 1 Axes>"
      ]
     },
     "metadata": {
      "needs_background": "light",
      "tags": []
     },
     "output_type": "display_data"
    }
   ],
   "source": [
    "estimators = [10,15,25,35,40,45,50,55,60]\n",
    "train_scores = []\n",
    "test_scores = []\n",
    "for i in estimators:\n",
    "    clf = XGBClassifier(silent=False, \n",
    "                      scale_pos_weight=1,\n",
    "                      learning_rate=0.01,  \n",
    "                      colsample_bytree = 0.4,\n",
    "                      subsample = 0.8,\n",
    "                      objective='binary:logistic', \n",
    "                      n_estimators=i, \n",
    "                      reg_alpha = 0.3,\n",
    "                      max_depth=4, \n",
    "                      gamma=10)\n",
    "    clf.fit(df_final_train,y_train)\n",
    "    train_sc = f1_score(y_train,clf.predict(df_final_train))\n",
    "    test_sc = f1_score(y_test,clf.predict(df_final_test))\n",
    "    test_scores.append(test_sc)\n",
    "    train_scores.append(train_sc)\n",
    "    print('Estimators = ',i,'Train Score',train_sc,'test Score',test_sc)\n",
    "plt.plot(estimators,train_scores,label='Train Score')\n",
    "plt.plot(estimators,test_scores,label='Test Score')\n",
    "plt.xlabel('Estimators')\n",
    "plt.ylabel('Score')\n",
    "plt.title('Estimators vs score at depth of 5')"
   ]
  },
  {
   "cell_type": "code",
   "execution_count": null,
   "metadata": {
    "colab": {
     "base_uri": "https://localhost:8080/",
     "height": 465
    },
    "colab_type": "code",
    "id": "fvRgpoGGdOe4",
    "outputId": "3a88c46b-6d17-4d86-ccba-f5ba0151dfc4"
   },
   "outputs": [
    {
     "name": "stdout",
     "output_type": "stream",
     "text": [
      "Depth =  2 Train Score 0.9205948018029403 test Score 0.9146623153701074\n",
      "Depth =  3 Train Score 0.9237252687497386 test Score 0.9188973400008404\n",
      "Depth =  4 Train Score 0.9269906841461872 test Score 0.923373351119016\n",
      "Depth =  5 Train Score 0.9310883818515604 test Score 0.9223829390711366\n",
      "Depth =  8 Train Score 0.9673295167196002 test Score 0.9134871434353763\n",
      "Depth =  10 Train Score 0.972870167246966 test Score 0.908207805546046\n",
      "Depth =  12 Train Score 0.976004016064257 test Score 0.9091258733787739\n",
      "Depth =  15 Train Score 0.9775280898876405 test Score 0.9091686623332192\n",
      "Depth =  20 Train Score 0.9781313323836848 test Score 0.9068895317689918\n"
     ]
    },
    {
     "data": {
      "text/plain": [
       "Text(0.5, 1.0, 'Depth vs score with n_estimators = 50')"
      ]
     },
     "execution_count": 94,
     "metadata": {
      "tags": []
     },
     "output_type": "execute_result"
    },
    {
     "data": {
      "image/png": "[encoded data removed]",
      "text/plain": [
       "<Figure size 864x288 with 1 Axes>"
      ]
     },
     "metadata": {
      "needs_background": "light",
      "tags": []
     },
     "output_type": "display_data"
    }
   ],
   "source": [
    "depths = [2,3,4,5,8,10,12,15,20]\n",
    "train_scores = []\n",
    "test_scores = []\n",
    "for i in depths:\n",
    "    clf = XGBClassifier(silent=False, \n",
    "                      scale_pos_weight=1,\n",
    "                      learning_rate=0.01,  \n",
    "                      colsample_bytree = 0.4,\n",
    "                      subsample = 0.8,\n",
    "                      objective='binary:logistic', \n",
    "                      n_estimators=50, \n",
    "                      reg_alpha = 0.3,\n",
    "                      max_depth=i, \n",
    "                      gamma=10)\n",
    "    clf.fit(df_final_train,y_train)\n",
    "    train_sc = f1_score(y_train,clf.predict(df_final_train))\n",
    "    test_sc = f1_score(y_test,clf.predict(df_final_test))\n",
    "    test_scores.append(test_sc)\n",
    "    train_scores.append(train_sc)\n",
    "    print('Depth = ',i,'Train Score',train_sc,'test Score',test_sc)\n",
    "plt.plot(depths,train_scores,label='Train Score')\n",
    "plt.plot(depths,test_scores,label='Test Score')\n",
    "plt.xlabel('Depth')\n",
    "plt.ylabel('Score')\n",
    "plt.title('Depth vs score with n_estimators = 50')"
   ]
  },
  {
   "cell_type": "code",
   "execution_count": null,
   "metadata": {
    "colab": {},
    "colab_type": "code",
    "id": "yUk_f7s9g0mK"
   },
   "outputs": [],
   "source": [
    "from scipy.stats import randint as sp_randint\n",
    "from scipy.stats import uniform"
   ]
  },
  {
   "cell_type": "code",
   "execution_count": null,
   "metadata": {
    "colab": {
     "base_uri": "https://localhost:8080/",
     "height": 51
    },
    "colab_type": "code",
    "id": "9ZD3JSuAcnSG",
    "outputId": "8ccc6d45-6218-4b5c-ce75-bdd6b3b404c3"
   },
   "outputs": [
    {
     "name": "stdout",
     "output_type": "stream",
     "text": [
      "mean test scores [0.9741902  0.92802887 0.96636358 0.97428761 0.9773855 ]\n",
      "mean train scores [0.9749252  0.92821009 0.96688544 0.97487048 0.98057475]\n"
     ]
    }
   ],
   "source": [
    "\n",
    "param_dist = {\"n_estimators\":[40,45,50,55,60],\n",
    "              \"max_depth\": [3,4,5,6,7],\n",
    "              \"learning_rate\": [0.01,0.05,0.1,0.15,0.2],\n",
    "              \"subsample\": [0.75,0.8,0.85,0.9,0.95],\n",
    "              \"gamma\": [0,1,5,8,10],\n",
    "              \"colsample_bytree\": [0.4,0.6,0.8,0.9,1],\n",
    "              \"reg_alpha\": [0.2,0.3,0.4,0.5,0.6]}\n",
    "\n",
    "clf = XGBClassifier(random_state=25,n_jobs=-1)\n",
    "\n",
    "xgb_random = RandomizedSearchCV(clf, param_distributions=param_dist,\n",
    "                                   n_iter=5,cv=10,scoring='f1',random_state=25,return_train_score=True)\n",
    "\n",
    "xgb_random.fit(df_final_train,y_train)\n",
    "print('mean test scores',xgb_random.cv_results_['mean_test_score'])\n",
    "print('mean train scores',xgb_random.cv_results_['mean_train_score'])"
   ]
  },
  {
   "cell_type": "code",
   "execution_count": null,
   "metadata": {
    "colab": {
     "base_uri": "https://localhost:8080/",
     "height": 136
    },
    "colab_type": "code",
    "id": "nIFyOHfllfDg",
    "outputId": "144e08f0-a918-4a43-f109-7f8d5e927fb6"
   },
   "outputs": [
    {
     "name": "stdout",
     "output_type": "stream",
     "text": [
      "XGBClassifier(base_score=0.5, booster='gbtree', colsample_bylevel=1,\n",
      "              colsample_bynode=1, colsample_bytree=0.9, gamma=8,\n",
      "              learning_rate=0.2, max_delta_step=0, max_depth=7,\n",
      "              min_child_weight=1, missing=None, n_estimators=50, n_jobs=-1,\n",
      "              nthread=None, objective='binary:logistic', random_state=25,\n",
      "              reg_alpha=0.4, reg_lambda=1, scale_pos_weight=1, seed=None,\n",
      "              silent=None, subsample=0.95, verbosity=1)\n"
     ]
    }
   ],
   "source": [
    "print(xgb_random.best_estimator_)"
   ]
  },
  {
   "cell_type": "code",
   "execution_count": null,
   "metadata": {
    "colab": {},
    "colab_type": "code",
    "id": "ru0qS6fzl0y6"
   },
   "outputs": [],
   "source": [
    "clf = XGBClassifier(base_score=0.5, booster='gbtree', colsample_bylevel=1,\n",
    "              colsample_bynode=1, colsample_bytree=0.9, gamma=8,\n",
    "              learning_rate=0.2, max_delta_step=0, max_depth=7,\n",
    "              min_child_weight=1, missing=None, n_estimators=50, n_jobs=-1,\n",
    "              nthread=None, objective='binary:logistic', random_state=25,\n",
    "              reg_alpha=0.4, reg_lambda=1, scale_pos_weight=1, seed=None,\n",
    "              silent=None, subsample=0.95, verbosity=1)"
   ]
  },
  {
   "cell_type": "code",
   "execution_count": null,
   "metadata": {
    "colab": {},
    "colab_type": "code",
    "id": "Dax83GfLHgl1"
   },
   "outputs": [],
   "source": [
    "clf.fit(df_final_train,y_train)\n",
    "y_train_pred = clf.predict(df_final_train)\n",
    "y_test_pred = clf.predict(df_final_test)"
   ]
  },
  {
   "cell_type": "code",
   "execution_count": null,
   "metadata": {
    "colab": {
     "base_uri": "https://localhost:8080/",
     "height": 51
    },
    "colab_type": "code",
    "id": "PTtAp1iTHgl4",
    "outputId": "68ac01c6-22d4-43e9-adfa-4ca2b5b52310"
   },
   "outputs": [
    {
     "name": "stdout",
     "output_type": "stream",
     "text": [
      "Train f1 score 0.980836113995383\n",
      "Test f1 score 0.9314090102273688\n"
     ]
    }
   ],
   "source": [
    "from sklearn.metrics import f1_score\n",
    "print('Train f1 score',f1_score(y_train,y_train_pred))\n",
    "print('Test f1 score',f1_score(y_test,y_test_pred))"
   ]
  },
  {
   "cell_type": "code",
   "execution_count": null,
   "metadata": {
    "colab": {},
    "colab_type": "code",
    "id": "5XfUkZYQHgl7"
   },
   "outputs": [],
   "source": [
    "from sklearn.metrics import confusion_matrix\n",
    "def plot_confusion_matrix(test_y, predict_y):\n",
    "    C = confusion_matrix(test_y, predict_y)\n",
    "    \n",
    "    A =(((C.T)/(C.sum(axis=1))).T)\n",
    "    \n",
    "    B =(C/C.sum(axis=0))\n",
    "    plt.figure(figsize=(20,4))\n",
    "    \n",
    "    labels = [0,1]\n",
    "    # representing A in heatmap format\n",
    "    cmap=sns.light_palette(\"blue\")\n",
    "    plt.subplot(1, 3, 1)\n",
    "    sns.heatmap(C, annot=True, cmap=cmap, fmt=\".3f\", xticklabels=labels, yticklabels=labels)\n",
    "    plt.xlabel('Predicted Class')\n",
    "    plt.ylabel('Original Class')\n",
    "    plt.title(\"Confusion matrix\")\n",
    "    \n",
    "    plt.subplot(1, 3, 2)\n",
    "    sns.heatmap(B, annot=True, cmap=cmap, fmt=\".3f\", xticklabels=labels, yticklabels=labels)\n",
    "    plt.xlabel('Predicted Class')\n",
    "    plt.ylabel('Original Class')\n",
    "    plt.title(\"Precision matrix\")\n",
    "    \n",
    "    plt.subplot(1, 3, 3)\n",
    "    # representing B in heatmap format\n",
    "    sns.heatmap(A, annot=True, cmap=cmap, fmt=\".3f\", xticklabels=labels, yticklabels=labels)\n",
    "    plt.xlabel('Predicted Class')\n",
    "    plt.ylabel('Original Class')\n",
    "    plt.title(\"Recall matrix\")\n",
    "    \n",
    "    plt.show()"
   ]
  },
  {
   "cell_type": "code",
   "execution_count": null,
   "metadata": {
    "colab": {
     "base_uri": "https://localhost:8080/",
     "height": 607
    },
    "colab_type": "code",
    "id": "s6t11dhTHgl-",
    "outputId": "54791df0-404d-4bde-9ac7-88a1cd52d02e"
   },
   "outputs": [
    {
     "name": "stdout",
     "output_type": "stream",
     "text": [
      "Train confusion_matrix\n"
     ]
    },
    {
     "data": {
      "image/png": "[encoded data removed]",
      "text/plain": [
       "<Figure size 1440x288 with 6 Axes>"
      ]
     },
     "metadata": {
      "needs_background": "light",
      "tags": []
     },
     "output_type": "display_data"
    },
    {
     "name": "stdout",
     "output_type": "stream",
     "text": [
      "Test confusion_matrix\n"
     ]
    },
    {
     "data": {
      "image/png": "[encoded data removed]",
      "text/plain": [
       "<Figure size 1440x288 with 6 Axes>"
      ]
     },
     "metadata": {
      "needs_background": "light",
      "tags": []
     },
     "output_type": "display_data"
    }
   ],
   "source": [
    "print('Train confusion_matrix')\n",
    "plot_confusion_matrix(y_train,y_train_pred)\n",
    "print('Test confusion_matrix')\n",
    "plot_confusion_matrix(y_test,y_test_pred)"
   ]
  },
  {
   "cell_type": "code",
   "execution_count": null,
   "metadata": {
    "colab": {
     "base_uri": "https://localhost:8080/",
     "height": 295
    },
    "colab_type": "code",
    "id": "61TF-VLeHgmD",
    "outputId": "9271924f-3ef2-491d-d357-7f3e10d3965a"
   },
   "outputs": [
    {
     "data": {
      "image/png": "[encoded data removed]",
      "text/plain": [
       "<Figure size 864x288 with 1 Axes>"
      ]
     },
     "metadata": {
      "needs_background": "light",
      "tags": []
     },
     "output_type": "display_data"
    }
   ],
   "source": [
    "from sklearn.metrics import roc_curve, auc\n",
    "fpr,tpr,ths = roc_curve(y_test,y_test_pred)\n",
    "auc_sc = auc(fpr, tpr)\n",
    "plt.plot(fpr, tpr, color='navy',label='ROC curve (area = %0.2f)' % auc_sc)\n",
    "plt.xlabel('False Positive Rate')\n",
    "plt.ylabel('True Positive Rate')\n",
    "plt.title('Receiver operating characteristic with test data')\n",
    "plt.legend()\n",
    "plt.show()"
   ]
  },
  {
   "cell_type": "code",
   "execution_count": null,
   "metadata": {
    "colab": {
     "base_uri": "https://localhost:8080/",
     "height": 730
    },
    "colab_type": "code",
    "id": "HEZ7uvN6HgmK",
    "outputId": "f48765fd-e0aa-4c98-b63e-8e41c7187329",
    "scrolled": false
   },
   "outputs": [
    {
     "data": {
      "image/png": "[encoded data removed]",
      "text/plain": [
       "<Figure size 720x864 with 1 Axes>"
      ]
     },
     "metadata": {
      "needs_background": "light",
      "tags": []
     },
     "output_type": "display_data"
    }
   ],
   "source": [
    "features = df_final_train.columns\n",
    "importances = clf.feature_importances_\n",
    "indices = (np.argsort(importances))[-25:]\n",
    "plt.figure(figsize=(10,12))\n",
    "plt.title('Feature Importances')\n",
    "plt.barh(range(len(indices)), importances[indices], color='r', align='center')\n",
    "plt.yticks(range(len(indices)), [features[i] for i in indices])\n",
    "plt.xlabel('Relative Importance')\n",
    "plt.show()"
   ]
  },
  {
   "cell_type": "markdown",
   "metadata": {
    "colab_type": "text",
    "id": "ezi8-SgcQW6c"
   },
   "source": [
    "####1. For Detailed Explanation of Steps upto addition of Preferential Attachment as a Feature, Please refer to the \"**Facebook Case Study - Notes**\" pdf attached with this assignment submission"
   ]
  },
  {
   "cell_type": "markdown",
   "metadata": {
    "colab_type": "text",
    "id": "DQjsVtqREWQP"
   },
   "source": [
    "#####2. Preferential Attachment:\n",
    "######2.1. One well-known concept in social networks is that users with many friends tend to create more connections in the future. This is due to the fact that in some social networks, like in finance, the rich get richer. We estimate how ”rich” our two vertices are by calculating the multiplication between the number of friends (|Γ(x)|) or followers each vertex has. It may be noted that the similarity index does not require any node neighbor information; therefore, this similarity index has the lowest computational complexity."
   ]
  },
  {
   "cell_type": "markdown",
   "metadata": {
    "colab_type": "text",
    "id": "JAFgM72NF7DD"
   },
   "source": [
    "######3. SVD Dot Feature:\n",
    "3.1. svd_dot is a Dot product between sourse node svd and destination node svd features."
   ]
  },
  {
   "cell_type": "markdown",
   "metadata": {
    "colab_type": "text",
    "id": "ar5NSiy9GZvG"
   },
   "source": [
    "######4. Apply XGBoostClassifier on all these Features to predict whether link is present or not"
   ]
  },
  {
   "cell_type": "markdown",
   "metadata": {
    "colab_type": "text",
    "id": "gBBP1aQxGozE"
   },
   "source": [
    "######5. Hyperparameter Tune the parameters of XGBoost Classifier to get the best posible metric value for this dataset and set of features"
   ]
  },
  {
   "cell_type": "markdown",
   "metadata": {
    "colab_type": "text",
    "id": "PKpngcSRRyw5"
   },
   "source": [
    "#####**6. Results:**\n",
    "#####**Train f1 score 0.980836113995383**\n",
    "#####**Test f1 score 0.9314090102273688**"
   ]
  }
 ],
 "metadata": {
  "colab": {
   "collapsed_sections": [],
   "name": "Facebook F. Recommendation Assignment.ipynb",
   "provenance": []
  },
  "kernelspec": {
   "display_name": "Python 3",
   "language": "python",
   "name": "python3"
  },
  "language_info": {
   "codemirror_mode": {
    "name": "ipython",
    "version": 3
   },
   "file_extension": ".py",
   "mimetype": "text/x-python",
   "name": "python",
   "nbconvert_exporter": "python",
   "pygments_lexer": "ipython3",
   "version": "3.6.5"
  }
 },
 "nbformat": 4,
 "nbformat_minor": 1
}
